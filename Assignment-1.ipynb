{
 "cells": [
  {
   "cell_type": "markdown",
   "id": "e0315701",
   "metadata": {},
   "source": [
    "# Problem-01:\n",
    "## Write a program which will find all such numbers which are divisible by 7 but are not a multiple of 5, between 2000 and 3200 (both included). The numbers obtained should be printed in a comma-separated sequence on a single line."
   ]
  },
  {
   "cell_type": "markdown",
   "id": "423faf11",
   "metadata": {},
   "source": [
    "### This can be solved in two ways"
   ]
  },
  {
   "cell_type": "code",
   "execution_count": 5,
   "id": "ed1dbab2",
   "metadata": {},
   "outputs": [
    {
     "name": "stdout",
     "output_type": "stream",
     "text": [
      "2002,2009,2016,2023,2037,2044,2051,2058,2072,2079,2086,2093,2107,2114,2121,2128,2142,2149,2156,2163,2177,2184,2191,2198,2212,2219,2226,2233,2247,2254,2261,2268,2282,2289,2296,2303,2317,2324,2331,2338,2352,2359,2366,2373,2387,2394,2401,2408,2422,2429,2436,2443,2457,2464,2471,2478,2492,2499,2506,2513,2527,2534,2541,2548,2562,2569,2576,2583,2597,2604,2611,2618,2632,2639,2646,2653,2667,2674,2681,2688,2702,2709,2716,2723,2737,2744,2751,2758,2772,2779,2786,2793,2807,2814,2821,2828,2842,2849,2856,2863,2877,2884,2891,2898,2912,2919,2926,2933,2947,2954,2961,2968,2982,2989,2996,3003,3017,3024,3031,3038,3052,3059,3066,3073,3087,3094,3101,3108,3122,3129,3136,3143,3157,3164,3171,3178,3192,3199,"
     ]
    }
   ],
   "source": [
    "# First way\n",
    "for i in range(2000,3201):\n",
    "    if i%7==0 and i%5!=0:\n",
    "        print(i,end=',')"
   ]
  },
  {
   "cell_type": "code",
   "execution_count": 7,
   "id": "ecb72044",
   "metadata": {},
   "outputs": [
    {
     "name": "stdout",
     "output_type": "stream",
     "text": [
      "2002,2009,2016,2023,2037,2044,2051,2058,2072,2079,2086,2093,2107,2114,2121,2128,2142,2149,2156,2163,2177,2184,2191,2198,2212,2219,2226,2233,2247,2254,2261,2268,2282,2289,2296,2303,2317,2324,2331,2338,2352,2359,2366,2373,2387,2394,2401,2408,2422,2429,2436,2443,2457,2464,2471,2478,2492,2499,2506,2513,2527,2534,2541,2548,2562,2569,2576,2583,2597,2604,2611,2618,2632,2639,2646,2653,2667,2674,2681,2688,2702,2709,2716,2723,2737,2744,2751,2758,2772,2779,2786,2793,2807,2814,2821,2828,2842,2849,2856,2863,2877,2884,2891,2898,2912,2919,2926,2933,2947,2954,2961,2968,2982,2989,2996,3003,3017,3024,3031,3038,3052,3059,3066,3073,3087,3094,3101,3108,3122,3129,3136,3143,3157,3164,3171,3178,3192,3199,"
     ]
    }
   ],
   "source": [
    "# Second way\n",
    "for i in range(2000,3201):\n",
    "    if i%7==0:\n",
    "        if i%5!=0:\n",
    "            print(i,end=',')"
   ]
  },
  {
   "cell_type": "code",
   "execution_count": null,
   "id": "1cbed68a",
   "metadata": {},
   "outputs": [],
   "source": []
  },
  {
   "cell_type": "markdown",
   "id": "ae23e0c9",
   "metadata": {},
   "source": [
    "# Problem-02:\n",
    "## Write a Python program to accept the user's first and last name and then getting them printed in the the reverse order with a space between first name and last name."
   ]
  },
  {
   "cell_type": "code",
   "execution_count": 20,
   "id": "16d2f1e7",
   "metadata": {},
   "outputs": [
    {
     "name": "stdout",
     "output_type": "stream",
     "text": [
      "Enter your first name:Madathil Cherukattu \n",
      "\n",
      "Enter your last name:Nitish\n",
      "\n",
      "Actual_name: Madathil Cherukattu  Nitish\n",
      "\n",
      "Reversed_name:hsitiN  uttakurehC lihtadaM\n"
     ]
    }
   ],
   "source": [
    "# This is one way of solving the above problem\n",
    "first_name = input(\"Enter your first name:\")\n",
    "print()\n",
    "last_name = input(\"Enter your last name:\")\n",
    "print()\n",
    "\n",
    "Name = first_name+' ' +last_name\n",
    "\n",
    "print(f\"Actual_name: {Name}\")\n",
    "print()\n",
    "print(f\"Reversed_name:{Name[::-1]}\")\n"
   ]
  },
  {
   "cell_type": "code",
   "execution_count": 18,
   "id": "97d867f1",
   "metadata": {},
   "outputs": [
    {
     "name": "stdout",
     "output_type": "stream",
     "text": [
      "Enter your first name:Madathil Cherukattu \n",
      "\n",
      "Enter your last name:Nitish\n",
      "\n",
      "Reverse_order_of_Name: hsitiN  uttakurehC lihtadaM\n"
     ]
    }
   ],
   "source": [
    "# This is another way of solving the above problem\n",
    "first_name = input(\"Enter your first name:\")\n",
    "print()\n",
    "last_name = input(\"Enter your last name:\")\n",
    "print()\n",
    "\n",
    "Name = first_name+' ' +last_name\n",
    "print(\"Reverse_order_of_Name:\",Name[::-1])"
   ]
  },
  {
   "cell_type": "code",
   "execution_count": null,
   "id": "a00c9a58",
   "metadata": {},
   "outputs": [],
   "source": []
  },
  {
   "cell_type": "markdown",
   "id": "9f16cdfd",
   "metadata": {},
   "source": [
    "# Problem-03: \n",
    "## Write a Python program to find the volume of a sphere with diameter 12 cm.Formula: V=4/3 π r3"
   ]
  },
  {
   "cell_type": "code",
   "execution_count": 19,
   "id": "c12bc2b4",
   "metadata": {},
   "outputs": [
    {
     "name": "stdout",
     "output_type": "stream",
     "text": [
      "904.7786842338603\n"
     ]
    }
   ],
   "source": [
    "# Importing the math module\n",
    "\n",
    "import math\n",
    "\n",
    "diameter = 12\n",
    "\n",
    "# Radius=diameter / 2\n",
    "\n",
    "Radius = 6\n",
    "\n",
    "Volume_of_sphere = (4/3) * (math.pi) * (math.pow(6,3))\n",
    "print(Volume_of_sphere)"
   ]
  },
  {
   "cell_type": "code",
   "execution_count": null,
   "id": "ab0dc919",
   "metadata": {},
   "outputs": [],
   "source": []
  }
 ],
 "metadata": {
  "kernelspec": {
   "display_name": "Python 3 (ipykernel)",
   "language": "python",
   "name": "python3"
  },
  "language_info": {
   "codemirror_mode": {
    "name": "ipython",
    "version": 3
   },
   "file_extension": ".py",
   "mimetype": "text/x-python",
   "name": "python",
   "nbconvert_exporter": "python",
   "pygments_lexer": "ipython3",
   "version": "3.9.12"
  }
 },
 "nbformat": 4,
 "nbformat_minor": 5
}
